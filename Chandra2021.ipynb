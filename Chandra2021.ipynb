{
 "cells": [
  {
   "cell_type": "code",
   "execution_count": 6,
   "id": "ac42c85c",
   "metadata": {},
   "outputs": [],
   "source": [
    "import ciao_contrib.runtool as rt\n",
    "from ciao_contrib.cda.data import download_chandra_obsids"
   ]
  },
  {
   "cell_type": "code",
   "execution_count": 2,
   "id": "fcae5b39",
   "metadata": {},
   "outputs": [
    {
     "data": {
      "text/plain": [
       "'/melkor/d1/guenther/projects/TWHya/code'"
      ]
     },
     "execution_count": 2,
     "metadata": {},
     "output_type": "execute_result"
    }
   ],
   "source": [
    "pwd"
   ]
  },
  {
   "cell_type": "code",
   "execution_count": 5,
   "id": "e88c94b8",
   "metadata": {},
   "outputs": [
    {
     "name": "stdout",
     "output_type": "stream",
     "text": [
      ".cshrc: No such file or directory.\r\n",
      "\u001b[0m\u001b[38;5;51mdata/Chandra\u001b[0m@\r\n"
     ]
    }
   ],
   "source": [
    "ls data/Chandra"
   ]
  },
  {
   "cell_type": "code",
   "execution_count": 9,
   "id": "3806a249",
   "metadata": {},
   "outputs": [],
   "source": [
    "download_chandra_obsids?"
   ]
  },
  {
   "cell_type": "code",
   "execution_count": 8,
   "id": "ec0afe96",
   "metadata": {},
   "outputs": [],
   "source": [
    "# from https://gist.github.com/nottrobin/3d675653244f8814838a\n",
    "# Why is this not part of Python itself? It's so useful!\n",
    "import os\n",
    "from contextlib import contextmanager\n",
    "\n",
    "@contextmanager\n",
    "def working_directory(path):\n",
    "    \"\"\"\n",
    "    A context manager which changes the working directory to the given\n",
    "    path, and then changes it back to its previous value on exit.\n",
    "    Usage:\n",
    "    > # Do something in original directory\n",
    "    > with working_directory('/my/new/path'):\n",
    "    >     # Do something in new directory\n",
    "    > # Back to old directory\n",
    "    \"\"\"\n",
    "\n",
    "    prev_cwd = os.getcwd()\n",
    "    os.chdir(path)\n",
    "    try:\n",
    "        yield\n",
    "    finally:\n",
    "        os.chdir(prev_cwd)"
   ]
  },
  {
   "cell_type": "code",
   "execution_count": 10,
   "id": "69112a7b",
   "metadata": {},
   "outputs": [],
   "source": [
    "with working_directory('data/Chandra/'):\n",
    "    download_chandra_obsids([23382, 23383, 23383, 23385, 23386, 24989])"
   ]
  },
  {
   "cell_type": "code",
   "execution_count": null,
   "id": "0cfe82d9",
   "metadata": {},
   "outputs": [],
   "source": []
  }
 ],
 "metadata": {
  "kernelspec": {
   "display_name": "Python 3",
   "language": "python",
   "name": "python3"
  },
  "language_info": {
   "codemirror_mode": {
    "name": "ipython",
    "version": 3
   },
   "file_extension": ".py",
   "mimetype": "text/x-python",
   "name": "python",
   "nbconvert_exporter": "python",
   "pygments_lexer": "ipython3",
   "version": "3.8.2"
  }
 },
 "nbformat": 4,
 "nbformat_minor": 5
}
