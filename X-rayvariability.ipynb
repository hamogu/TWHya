{
 "cells": [
  {
   "cell_type": "code",
   "execution_count": null,
   "metadata": {},
   "outputs": [],
   "source": [
    "from pathlib import Path\n",
    "from glob import glob\n",
    "import numpy as np\n",
    "from sherpa.astro import ui\n",
    "from sherpa.astro import datastack as ds\n",
    "import sherpa\n",
    "\n",
    "from astropy.io import fits\n",
    "from astropy.table import Table\n",
    "import astropy.units as u\n",
    "\n",
    "import ChiantiPy.core as ch"
   ]
  },
  {
   "cell_type": "code",
   "execution_count": null,
   "metadata": {},
   "outputs": [],
   "source": [
    "import matplotlib.pyplot as plt\n",
    "\n",
    "%matplotlib inline"
   ]
  },
  {
   "cell_type": "code",
   "execution_count": null,
   "metadata": {},
   "outputs": [],
   "source": [
    "# Monkey patch a sherpa bug for loading multiple response files\n",
    "# see https://cxc.harvard.edu/sherpa/threads/grating_hrcsletg/\n",
    "import numpy\n",
    "from sherpa.models.model import CompositeModel\n",
    "from sherpa.astro.instrument import MultiResponseSumModel\n",
    "\n",
    "def startup_monkey(self, cache):\n",
    "    pha = self.pha\n",
    "    if numpy.iterable(pha.mask):\n",
    "        pha.notice_response(True)\n",
    "    self.channel = pha.get_noticed_channels()\n",
    "    self.mask = pha.get_mask()\n",
    "    self._get_noticed_energy_list()\n",
    "    CompositeModel.startup(self, cache)\n",
    "\n",
    "MultiResponseSumModel.startup = startup_monkey"
   ]
  },
  {
   "cell_type": "code",
   "execution_count": null,
   "metadata": {
    "scrolled": true
   },
   "outputs": [],
   "source": [
    "path = 'data/Chandra/tgcat/obs_6443_tgid_2459/'\n",
    "ui.load_data(path + 'pha2.gz')\n",
    "for sign, sherpaid in zip(['-', ''], [1, 2]):\n",
    "    for num in [1,2,3]:\n",
    "        ui.load_arf(sherpaid, path+\"leg_{}{}.arf.gz\".format(sign, num), num)\n",
    "        ui.load_rmf(sherpaid, path+\"leg_{}{}.rmf.gz\".format(sign, num), num)\n",
    "        \n",
    "ui.copy_data(1, '6443_leg-1')\n",
    "ui.copy_data(2, '6443_leg+1')"
   ]
  },
  {
   "cell_type": "code",
   "execution_count": null,
   "metadata": {
    "scrolled": true
   },
   "outputs": [],
   "source": [
    "# LEG / ACIS\n",
    "path = 'data/Chandra/tgcat/obs_13250_tgid_3371/'\n",
    "ui.load_data(path + 'pha2.gz')\n",
    "for sign, sherpaid in zip(['-', ''], [3, 4]):\n",
    "    ui.load_arf(sherpaid, path+\"leg_{}1.arf.gz\".format(sign))\n",
    "    ui.load_rmf(sherpaid, path+\"leg_{}1.rmf.gz\".format(sign))\n",
    "        \n",
    "ui.copy_data(3, '13250_leg-1')\n",
    "ui.copy_data(4, '13250_leg+1')"
   ]
  },
  {
   "cell_type": "code",
   "execution_count": null,
   "metadata": {
    "scrolled": true
   },
   "outputs": [],
   "source": [
    "# HEG / ACIS\n",
    "\n",
    "hegobsids = ['5', '7435', '7436', '7437', '7438']\n",
    "hegdirs = ['obs_5_tgid_4988', 'obs_7435_tgid_4053', 'obs_7436_tgid_4054', 'obs_7437_tgid_4057', 'obs_7438_tgid_4055']\n",
    "for h, hd in zip(hegobsids, hegdirs):\n",
    "    path = 'data/Chandra/tgcat/' + hd + '/'\n",
    "    ui.load_data(path + 'pha2.gz')\n",
    "\n",
    "    ui.load_arf(3, path+\"heg_-1.arf.gz\")\n",
    "    ui.load_rmf(3, path+\"heg_-1.rmf.gz\")\n",
    "    ui.load_arf(4, path+\"heg_1.arf.gz\")\n",
    "    ui.load_rmf(4, path+\"heg_1.rmf.gz\")\n",
    "    ui.load_arf(9, path+\"meg_-1.arf.gz\")\n",
    "    ui.load_rmf(9, path+\"meg_-1.rmf.gz\")\n",
    "    ui.load_arf(10, path+\"meg_1.arf.gz\")\n",
    "    ui.load_rmf(10, path+\"meg_1.rmf.gz\")\n",
    "        \n",
    "    ui.copy_data(3, h + '_heg-1')\n",
    "    ui.copy_data(4, h + '_heg+1')\n",
    "    ui.copy_data(9, h + '_meg-1')\n",
    "    ui.copy_data(10, h + '_meg+1')"
   ]
  },
  {
   "cell_type": "code",
   "execution_count": null,
   "metadata": {},
   "outputs": [],
   "source": [
    "# XMM\n",
    "path = 'data/XMM/0112880201/pps/'\n",
    "ui.load_data('XMM_R1', path + 'P0112880201R1S004SRSPEC1003.FTZ')\n",
    "ui.load_data('XMM_R2', path + 'P0112880201R2S005SRSPEC1003.FTZ')\n",
    "ui.load_rmf('XMM_R1', path + 'P0112880201R1S004RSPMAT1003.FTZ')\n",
    "ui.load_rmf('XMM_R2', path + 'P0112880201R2S005RSPMAT1003.FTZ')"
   ]
  },
  {
   "cell_type": "code",
   "execution_count": null,
   "metadata": {},
   "outputs": [],
   "source": [
    "ui.set_analysis('wave')"
   ]
  },
  {
   "cell_type": "code",
   "execution_count": null,
   "metadata": {},
   "outputs": [],
   "source": [
    "ui.ignore(None, 21.4)\n",
    "ui.ignore(22.3, None)\n",
    "ui.notice(21.4, 22.3)"
   ]
  },
  {
   "cell_type": "code",
   "execution_count": null,
   "metadata": {},
   "outputs": [],
   "source": [
    "ui.set_stat('cstat')"
   ]
  },
  {
   "cell_type": "code",
   "execution_count": null,
   "metadata": {},
   "outputs": [],
   "source": [
    "bkg = ui.xsbbody(name='bkg')\n",
    "line_r = ui.delta1d(name='r')\n",
    "line_i = ui.delta1d(name='i')\n",
    "line_f = ui.delta1d(name='f')"
   ]
  },
  {
   "cell_type": "code",
   "execution_count": null,
   "metadata": {},
   "outputs": [],
   "source": [
    "bkg = ui.xsconstant(name='bkg')\n",
    "\n",
    "line_r = ui.xsgaussian(name='r')\n",
    "line_i = ui.xsgaussian(name='i')\n",
    "line_f = ui.xsgaussian(name='f')"
   ]
  },
  {
   "cell_type": "code",
   "execution_count": null,
   "metadata": {},
   "outputs": [],
   "source": [
    "line_r.Sigma.val = 0.00001\n",
    "line_r.Sigma.frozen = True\n",
    "line_r.LineE = 0.5740\n",
    "line_r.LineE.frozen = True\n",
    "\n",
    "line_i.Sigma.val = 0.00001\n",
    "line_i.Sigma.frozen = True\n",
    "line_i.LineE = 0.5686\n",
    "line_i.LineE.frozen = True\n",
    "\n",
    "line_f.Sigma.val = 0.00001\n",
    "line_f.Sigma.frozen = True\n",
    "line_f.LineE = 0.5610\n",
    "line_f.LineE.frozen = True"
   ]
  },
  {
   "cell_type": "code",
   "execution_count": null,
   "metadata": {},
   "outputs": [],
   "source": [
    "# Ne IX\n",
    "line_r.LineE = 0.9220\n",
    "line_i.LineE = 0.9148\n",
    "line_f.LineE = 0.9051\n",
    "\n",
    "ui.ignore(None, 13.40)\n",
    "ui.ignore(13.75, None)\n",
    "ui.notice(13.40, 13.75)"
   ]
  },
  {
   "cell_type": "code",
   "execution_count": null,
   "metadata": {},
   "outputs": [],
   "source": [
    "idnames = [['5_meg+1', '5_meg-1'],\n",
    "           ['XMM_R2'],\n",
    "           ['6443_leg+1', '6443_leg-1'],\n",
    "           ['7435_meg+1', '7435_meg-1'],\n",
    "           ['7436_meg+1', '7436_meg-1'],\n",
    "           ['7437_meg+1', '7437_meg-1'],\n",
    "           ['7438_meg+1', '7438_meg-1'],\n",
    "           ['13250_leg+1',  '13250_leg-1'],\n",
    "          ]\n",
    "obsids = [o[0].split('_')[0] for o in idnames]"
   ]
  },
  {
   "cell_type": "code",
   "execution_count": null,
   "metadata": {},
   "outputs": [],
   "source": [
    "def fitlines(names, model):\n",
    "    for n in names:\n",
    "        ui.set_source(n, model)\n",
    "        #ui.group_width(n, 1)\n",
    "        #ui.group_counts(n, 5)\n",
    "    ui.fit(*names)\n",
    "    ui.conf(*names)\n",
    "    cov = ui.get_conf_results()\n",
    "    ui.plot_fit(names[0])\n",
    "    ax = plt.gca()\n",
    "    ax.set_title(names[0])\n",
    "    return np.array([cov.parvals, cov.parmins, cov.parmaxes], dtype=np.floating), (plt.gcf(), ax)"
   ]
  },
  {
   "cell_type": "code",
   "execution_count": null,
   "metadata": {
    "scrolled": true
   },
   "outputs": [],
   "source": [
    "# Ne IX\n",
    "line_r.LineE = 0.9220\n",
    "line_i.LineE = 0.9148\n",
    "line_f.LineE = 0.9051\n",
    "\n",
    "ui.ignore(None, 13.40)\n",
    "ui.ignore(13.75, None)\n",
    "ui.notice(13.40, 13.75)\n",
    "\n",
    "fits = []\n",
    "plots = []\n",
    "for n in idnames:\n",
    "    f, p = fitlines(n, bkg + line_r + line_i + line_f)\n",
    "    fits.append(f)\n",
    "    plots.append(p)\n",
    "    plt.show()"
   ]
  },
  {
   "cell_type": "code",
   "execution_count": null,
   "metadata": {},
   "outputs": [],
   "source": [
    "farr = np.stack(fits)\n",
    "\n",
    "farr.shape"
   ]
  },
  {
   "cell_type": "code",
   "execution_count": null,
   "metadata": {},
   "outputs": [],
   "source": [
    "# Ne IX Lyb\n",
    "line_r.LineE = (11.55 * u.Angstrom).to(u.keV, equivalencies=u.spectral())\n",
    "\n",
    "ui.ignore(None, 11.45)\n",
    "ui.ignore(11.65, None)\n",
    "ui.notice(11.45, 11.65)\n",
    "\n",
    "fits = []\n",
    "plots = []\n",
    "for n in idnames:\n",
    "    f, p = fitlines(n, bkg + line_r)\n",
    "    fits.append(f)\n",
    "    plots.append(p)\n",
    "    plt.show()"
   ]
  },
  {
   "cell_type": "code",
   "execution_count": null,
   "metadata": {},
   "outputs": [],
   "source": [
    "farr2 = np.stack(fits)\n",
    "\n",
    "farr2.shape"
   ]
  },
  {
   "cell_type": "code",
   "execution_count": null,
   "metadata": {},
   "outputs": [],
   "source": [
    "alpha2beta = farr[:, 0, 1] / farr2[:, 0, 1]\n",
    "sig_alpha2beta = np.sqrt((farr[:, 2, 1] / farr2[:, 0, 1])**2 + (farr[:, 0, 1] * farr2[:, 2, 1] / farr2[:, 0, 1]**2)**2)"
   ]
  },
  {
   "cell_type": "code",
   "execution_count": null,
   "metadata": {},
   "outputs": [],
   "source": [
    "plt.errorbar(obsids, alpha2beta, yerr=sig_alpha2beta, fmt='o')"
   ]
  },
  {
   "cell_type": "code",
   "execution_count": null,
   "metadata": {},
   "outputs": [],
   "source": [
    "f2i = farr[:, 0, 3] / farr[:, 0, 2]\n",
    "sig_f2i = np.sqrt((farr[:, 2, 3] / farr[:, 0, 2])**2 + (farr[:, 0, 3] * farr[:, 2, 2] / farr[:, 0, 2]**2)**2)"
   ]
  },
  {
   "cell_type": "code",
   "execution_count": null,
   "metadata": {},
   "outputs": [],
   "source": [
    "fi2r = (farr[:, 0, 3] + farr[:, 0, 2]) / farr[:, 0, 1]\n",
    "sig_fi2r = np.sqrt((farr[:, 2, 3] / farr[:, 0, 1])**2 + \n",
    "                   (farr[:, 2, 2] / farr[:, 0, 1])**2 + \n",
    "                   ((farr[:, 0, 3] + farr[:, 0, 2]) * farr[:, 2, 1] / farr[:, 0, 1]**2)**2)"
   ]
  },
  {
   "cell_type": "code",
   "execution_count": null,
   "metadata": {},
   "outputs": [],
   "source": [
    "plt.errorbar(obsids, f2i, yerr=sig_f2i, fmt='o')"
   ]
  },
  {
   "cell_type": "code",
   "execution_count": null,
   "metadata": {},
   "outputs": [],
   "source": [
    "plt.errorbar(obsids, fi2r, yerr=sig_fi2r, fmt='o')"
   ]
  },
  {
   "cell_type": "code",
   "execution_count": null,
   "metadata": {},
   "outputs": [],
   "source": [
    "phabs = ui.xsphabs(\"phabs\")"
   ]
  },
  {
   "cell_type": "code",
   "execution_count": null,
   "metadata": {},
   "outputs": [],
   "source": [
    "phabs.nH = 1\n",
    "print(phabs)"
   ]
  },
  {
   "cell_type": "code",
   "execution_count": null,
   "metadata": {},
   "outputs": [],
   "source": [
    "lam = np.arange(25., 1., -.1)\n",
    "en = 12.4/lam\n",
    "phabs.nH = 1\n",
    "plt.plot(lam, phabs(en), label='$1 \\\\times 10^{22}$')\n",
    "phabs.nH = .3\n",
    "plt.plot(lam, phabs(en), label='$3\\\\times 10^{21}$')\n",
    "phabs.nH = .1\n",
    "plt.plot(lam, phabs(en), label='$1 \\\\times 10^{21}$')\n",
    "\n",
    "plt.legend()"
   ]
  },
  {
   "cell_type": "code",
   "execution_count": null,
   "metadata": {},
   "outputs": [],
   "source": [
    "phabs.nH = .1\n",
    "np.interp([11.55, 13.45], lam[::-1], phabs(en)[::-1])"
   ]
  },
  {
   "cell_type": "code",
   "execution_count": null,
   "metadata": {},
   "outputs": [],
   "source": [
    "phabs.nH = .3\n",
    "np.interp([11.55, 13.45], lam[::-1], phabs(en)[::-1])"
   ]
  },
  {
   "cell_type": "code",
   "execution_count": null,
   "metadata": {},
   "outputs": [],
   "source": [
    "0.81/0.74, 0.54/.40"
   ]
  },
  {
   "cell_type": "code",
   "execution_count": null,
   "metadata": {},
   "outputs": [],
   "source": [
    "print(phabs)"
   ]
  },
  {
   "cell_type": "code",
   "execution_count": null,
   "metadata": {},
   "outputs": [],
   "source": [
    "logtemp = np.arange(6.1, 7.01, .1)\n",
    "temp = 10**logtemp\n",
    "ne9 = ch.ion('ne_9', temperature=temp, eDensity=1.e+9, em=1.e+27)\n",
    "ne9.intensity()"
   ]
  },
  {
   "cell_type": "code",
   "execution_count": null,
   "metadata": {},
   "outputs": [],
   "source": [
    "# rename this Lya -> Hea to avoid confusion\n",
    "# Really want Intensity here not Emiss, but for lines of the same ion the result should be the same\n",
    "e_lyb = ne9.Emiss['emiss'][(ne9.Emiss['lvl1'] == 1) & (ne9.Emiss['pretty2'] == '1s.3p 1P1.0')].flatten()\n",
    "e_lya = ne9.Emiss['emiss'][(ne9.Emiss['lvl1'] == 1) & (ne9.Emiss['pretty2'] == '1s.2p 1P1.0')].flatten()"
   ]
  },
  {
   "cell_type": "code",
   "execution_count": null,
   "metadata": {},
   "outputs": [],
   "source": [
    "((ne9.Emiss['lvl1'] == 1) & (ne9.Emiss['pretty2'] == '1s.3p 1P1.0')).sum()"
   ]
  },
  {
   "cell_type": "code",
   "execution_count": null,
   "metadata": {},
   "outputs": [],
   "source": [
    "((ne9.Emiss['lvl1'] == 1) & (ne9.Emiss['pretty2'] == '1s.2p 1P1.0')).sum()"
   ]
  },
  {
   "cell_type": "code",
   "execution_count": null,
   "metadata": {},
   "outputs": [],
   "source": [
    "plt.plot(logtemp, e_lya / e_lyb)\n",
    "plt.xlabel('log T')\n",
    "plt.ylabel('ratio Ly$\\\\alpha$/Ly$\\\\beta$')"
   ]
  },
  {
   "cell_type": "code",
   "execution_count": null,
   "metadata": {},
   "outputs": [],
   "source": []
  },
  {
   "cell_type": "code",
   "execution_count": null,
   "metadata": {},
   "outputs": [],
   "source": [
    "e_i1 = ne9.Emiss['emiss'][(ne9.Emiss['lvl1'] == 1) & (ne9.Emiss['pretty2'] == '1s.2p 3P2.0')].flatten()\n",
    "e_i2 = ne9.Emiss['emiss'][(ne9.Emiss['lvl1'] == 1) & (ne9.Emiss['pretty2'] == '1s.2p 3P1.0')].flatten()\n",
    "e_f = ne9.Emiss['emiss'][(ne9.Emiss['lvl1'] == 1) & (ne9.Emiss['pretty2'] == '1s.2s 3S1.0')].flatten()"
   ]
  },
  {
   "cell_type": "code",
   "execution_count": null,
   "metadata": {},
   "outputs": [],
   "source": [
    "plt.plot(logtemp, (e_i1 + e_i2 + e_f) / e_lya)\n",
    "plt.xlabel('log T')\n",
    "plt.ylabel('ratio (f+i)/r')"
   ]
  },
  {
   "cell_type": "code",
   "execution_count": null,
   "metadata": {},
   "outputs": [],
   "source": [
    "xp = (e_i1 + e_i2 + e_f) / e_lya\n",
    "sortind = np.argsort(xp)\n",
    "xp = xp[sortind]\n",
    "fp = logtemp[sortind]\n",
    "t_from_g = np.interp(fi2r, xp, fp)\n",
    "t_from_g_up = np.interp(fi2r + sig_fi2r, xp, fp) - t_from_g\n",
    "t_from_g_do = np.interp(fi2r - sig_fi2r, xp, fp) - t_from_g"
   ]
  },
  {
   "cell_type": "code",
   "execution_count": null,
   "metadata": {},
   "outputs": [],
   "source": [
    "t_from_g_up"
   ]
  },
  {
   "cell_type": "code",
   "execution_count": null,
   "metadata": {},
   "outputs": [],
   "source": [
    "plt.errorbar(fi2r, alpha2beta, xerr=sig_fi2r, yerr=sig_alpha2beta, fmt='o')"
   ]
  },
  {
   "cell_type": "code",
   "execution_count": null,
   "metadata": {},
   "outputs": [],
   "source": [
    "phabs = ui.xsphabs(\"phabs\")\n",
    "phabs.nH = .1\n",
    "print(phabs)"
   ]
  },
  {
   "cell_type": "code",
   "execution_count": null,
   "metadata": {},
   "outputs": [],
   "source": [
    "# Input is \"edge of bins\", return values are for bin center.\n",
    "# So need to make a few narrow bins around the range I care.\n",
    "absval = phabs(([13.46, 13.45, 13.44, 11.56, 11.55, 11.54, 5.]\n",
    "                * u.Angstrom).to(u.keV, equivalencies=u.spectral()).value)\n",
    "absval"
   ]
  },
  {
   "cell_type": "code",
   "execution_count": null,
   "metadata": {},
   "outputs": [],
   "source": [
    "abscoeffalpha = - 1e-21 * np.log(absval[2])\n",
    "abscoeffbeta = - 1e-21 * np.log(absval[4])\n",
    "abscoeffalpha, abscoeffbeta"
   ]
  },
  {
   "cell_type": "code",
   "execution_count": null,
   "metadata": {},
   "outputs": [],
   "source": [
    "Gratio, Habobs = np.mgrid[.3:1.4:.01, 3:14:.01]"
   ]
  },
  {
   "cell_type": "code",
   "execution_count": null,
   "metadata": {},
   "outputs": [],
   "source": [
    "logT_from_G = np.interp(Gratio, xp, fp)\n",
    "Hab_from_logT = np.interp(logT_from_G, logtemp, e_lya / e_lyb)\n",
    "\n",
    "N_H = np.log(Habobs/Hab_from_logT) / (abscoeffbeta - abscoeffalpha) / 1e21"
   ]
  },
  {
   "cell_type": "code",
   "execution_count": null,
   "metadata": {},
   "outputs": [],
   "source": [
    "# Define colors so that they match figure 3 in Brickhouse et al. (2012)\n",
    "# Other colors are taken from default matplotlib color cycle\n",
    "obscolors = {'5': '#ff7f0e', \n",
    "             'XMM': '#9467bd',\n",
    "             '6443': '#8c564b', \n",
    "             '7435': '#d62728',\n",
    "             '7436': '#1f77b4', \n",
    "             '7437': '#2ca02c',\n",
    "             '7438': '#e377c2',\n",
    "             '13250': '#7f7f7f'}\n",
    "\n",
    "def grat2logt(g):\n",
    "    return np.interp(g, xp, fp)\n",
    "\n",
    "def logt2grat(logt):\n",
    "    return np.interp(logt, fp[::-1], xp[::-1])\n",
    "\n",
    "fig, ax = plt.subplots(figsize=(4,3))\n",
    "cs = ax.contourf(Gratio, Habobs, np.ma.masked_less_equal(N_H, 0), cmap='binary')\n",
    "cslines = ax.contour(Gratio, Habobs, N_H, levels=[0], linestyles=['dotted'], colors=['k'], linewidths=[4])\n",
    "#ax.clabel(cs, cs.levels, inline=True, fontsize=10)\n",
    "cb = fig.colorbar(cs, ax=ax)\n",
    "for i, o in enumerate(obsids):\n",
    "    eb = ax.errorbar(fi2r[i], alpha2beta[i] * 11.55 / 13.45, xerr=sig_fi2r[i], yerr=sig_alpha2beta[i],\n",
    "                     fmt='o', label=o, color=obscolors[o])\n",
    "\n",
    "secax = ax.secondary_xaxis('top', functions=(grat2logt, logt2grat))\n",
    "secax.set_xlabel('Temperature [log T in K]')\n",
    "    \n",
    "ax.set_xlim(.4, 1.22)\n",
    "ax.set_ylim(3, 13)\n",
    "cb.set_label('$N_H$ [$10^{21}$ cm$^{-2}$]')\n",
    "ax.set_xlabel('Observed line ratio $(f+i)/r$')\n",
    "ax.set_ylabel('Observed line ratio He$\\\\alpha$/He$\\\\beta$')\n",
    "ax.legend(loc='upper left')\n",
    "\n",
    "fig.savefig('/Users/guenther/MITDropbox/my_proposals/Chandra/ULYSSES-TWHya/figs/Ne-var.pdf', bbox_inches='tight')"
   ]
  },
  {
   "cell_type": "markdown",
   "metadata": {},
   "source": [
    "## Reprocess LETGS data in 30 ks chunks so see how many counts we can expect for proposal\n",
    "\n",
    "See https://cxc.cfa.harvard.edu/cal/Letg/LetgHrcEEFRAC/index.html for how to improve the S/N somewhat with non-standard settings. For the proposal I don't need that, fur a publication it might be worthwhile to explore the difference.\n",
    "\n",
    "*Note* I don't see changes between chunks, but the wavelength is slightly off (need to fix 0-order location by hand), so I just got the count number from the total 150 ks and devided by five for the proposal."
   ]
  },
  {
   "cell_type": "code",
   "execution_count": null,
   "metadata": {},
   "outputs": [],
   "source": [
    "import ciao_contrib.runtool as rt"
   ]
  },
  {
   "cell_type": "code",
   "execution_count": null,
   "metadata": {},
   "outputs": [],
   "source": [
    "# Everything could be done with CIAO tools, but I know astropy better, so I migh just as well use that\n",
    "from astropy.io import fits\n",
    "from astropy.table import Table"
   ]
  },
  {
   "cell_type": "code",
   "execution_count": null,
   "metadata": {},
   "outputs": [],
   "source": [
    "# From the header for ObsID 6443\n",
    "# I'm running this on an old computer, thus I don't want to open a large file just to get those two numbers\n",
    "# when I'm running the notebook again.\n",
    "TSTART = 272620141.4059900045\n",
    "TSTOP = 272774659.6507499814"
   ]
  },
  {
   "cell_type": "code",
   "execution_count": null,
   "metadata": {},
   "outputs": [],
   "source": [
    "for i in range(5):\n",
    "    rt.dmcopy.punlearn()\n",
    "    rt.dmcopy(infile='data/Chandra/6443/repro/hrcf06443_repro_evt2.fits[EVENTS][time={}:{}]'.format(TSTART + i * delta_t,\n",
    "                                                                                                    TSTART + (i+1) * delta_t),\n",
    "              outfile='data/Chandra/6443/repro/evt2_{}'.format(i), option=\"\")\n",
    "    rt.dmappend(infile='data/Chandra/6443/repro/hrcf06443_repro_evt2.fits[region][subspace -time]',\n",
    "                outfile='data/Chandra/6443/repro/evt2_{}'.format(i))\n"
   ]
  },
  {
   "cell_type": "code",
   "execution_count": null,
   "metadata": {},
   "outputs": [],
   "source": [
    "# Assuming DTCOR ppreviously calculated (i.e. for the entire exposure) is OK here, too.\n",
    "# See https://cxc.cfa.harvard.edu/ciao/threads/spectra_letghrcs/ for how to redo that calculation.\n",
    "# Not needed for proposal, because effect is in the percent range."
   ]
  },
  {
   "cell_type": "code",
   "execution_count": null,
   "metadata": {},
   "outputs": [],
   "source": [
    "for i in range(5):\n",
    "    rt.tgextract.punlearn()\n",
    "    rt.tgextract(infile='data/Chandra/6443/repro/evt2_{}'.format(i),\n",
    "                 outfile='data/Chandra/6443/repro/pha2_{}'.format(i),\n",
    "                 inregion_file='CALDB')"
   ]
  },
  {
   "cell_type": "code",
   "execution_count": null,
   "metadata": {},
   "outputs": [],
   "source": [
    "path = 'data/Chandra/tgcat/obs_6443_tgid_2459/'\n",
    "\n",
    "for i in range(5):\n",
    "    ui.load_data('data/Chandra/6443/repro/pha2_{}'.format(i))\n",
    "    for sign, sherpaid in zip(['-', ''], [1, 2]):\n",
    "        for num in [1,2,3]:\n",
    "            ui.load_arf(sherpaid, path+\"leg_{}{}.arf.gz\".format(sign, num), num)\n",
    "            ui.load_rmf(sherpaid, path+\"leg_{}{}.rmf.gz\".format(sign, num), num)\n",
    "        \n",
    "    ui.copy_data(1, 't6443_{}_leg-1'.format(i))\n",
    "    ui.copy_data(2, 't6443_{}_leg+1'.format(i))"
   ]
  },
  {
   "cell_type": "code",
   "execution_count": null,
   "metadata": {},
   "outputs": [],
   "source": [
    "ui.set_analysis('wave')\n",
    "ui.ignore(None, 13.40)\n",
    "ui.ignore(13.75, None)\n",
    "ui.notice(13.40, 13.75)\n",
    "\n",
    "ui.plot_data('6443_leg-1')\n",
    "for i in range(5):\n",
    "    ui.plot_data('t6443_{}_leg-1'.format(i), overplot=True)"
   ]
  },
  {
   "cell_type": "code",
   "execution_count": null,
   "metadata": {},
   "outputs": [],
   "source": [
    "ui.set_analysis('6443_leg-1', \"energy\", \"counts\", 0)"
   ]
  },
  {
   "cell_type": "code",
   "execution_count": null,
   "metadata": {},
   "outputs": [],
   "source": [
    "ui.plot_data('6443_leg-1')"
   ]
  },
  {
   "cell_type": "code",
   "execution_count": null,
   "metadata": {},
   "outputs": [],
   "source": [
    "pl = ui.get_data_plot('6443_leg-1')"
   ]
  },
  {
   "cell_type": "code",
   "execution_count": null,
   "metadata": {},
   "outputs": [],
   "source": [
    "pl.y.sum()"
   ]
  },
  {
   "cell_type": "code",
   "execution_count": null,
   "metadata": {},
   "outputs": [],
   "source": [
    "ui.set_analysis('wave')\n",
    "#ui.ignore(None, 21.5)\n",
    "#ui.ignore(22.3, None)\n",
    "#ui.notice(21.5, 22.3)\n",
    "ui.ignore(None, 13.40)\n",
    "ui.ignore(13.75, None)\n",
    "ui.notice(13.40, 13.75)\n",
    "ui.set_analysis('6443_leg+1', \"energy\", \"counts\", 0)\n",
    "pl = ui.get_data_plot('6443_leg+1')\n",
    "ui.plot_data('6443_leg+1')\n",
    "print(pl.y.sum())"
   ]
  },
  {
   "cell_type": "code",
   "execution_count": null,
   "metadata": {},
   "outputs": [],
   "source": [
    "5.**0.5"
   ]
  },
  {
   "cell_type": "code",
   "execution_count": null,
   "metadata": {},
   "outputs": [],
   "source": []
  }
 ],
 "metadata": {
  "kernelspec": {
   "display_name": "Python 3",
   "language": "python",
   "name": "python3"
  },
  "language_info": {
   "codemirror_mode": {
    "name": "ipython",
    "version": 3
   },
   "file_extension": ".py",
   "mimetype": "text/x-python",
   "name": "python",
   "nbconvert_exporter": "python",
   "pygments_lexer": "ipython3",
   "version": "3.7.7"
  }
 },
 "nbformat": 4,
 "nbformat_minor": 2
}
