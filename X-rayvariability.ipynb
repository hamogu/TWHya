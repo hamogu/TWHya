{
 "cells": [
  {
   "cell_type": "code",
   "execution_count": null,
   "metadata": {},
   "outputs": [],
   "source": [
    "from pathlib import Path\n",
    "from glob import glob\n",
    "import warnings\n",
    "import numpy as np\n",
    "from sherpa.astro import ui\n",
    "from sherpa.astro import datastack as ds\n",
    "import sherpa\n",
    "\n",
    "from astropy.io import fits\n",
    "from astropy.table import Table\n",
    "import astropy.units as u\n",
    "\n",
    "import ChiantiPy.core as ch"
   ]
  },
  {
   "cell_type": "code",
   "execution_count": null,
   "metadata": {},
   "outputs": [],
   "source": [
    "import matplotlib.pyplot as plt\n",
    "\n",
    "%matplotlib inline"
   ]
  },
  {
   "cell_type": "code",
   "execution_count": null,
   "metadata": {},
   "outputs": [],
   "source": [
    "obsids = ['5', 'XMM', '6443', '7435', '7436', '7437', '7438', '13250']\n",
    "dslist = {}"
   ]
  },
  {
   "cell_type": "code",
   "execution_count": null,
   "metadata": {},
   "outputs": [],
   "source": [
    "tgpart = ['dummy', 'heg', 'meg', 'leg']\n",
    "\n",
    "def loadpha2(obsid):\n",
    "    stack = ds.DataStack()\n",
    "    dirname = glob(f'data/Chandra/tgcat/*_{obsid}*/')[0]\n",
    "    pha2 = glob(dirname + '*pha2.*')\n",
    "    ui.load_data(pha2[0])\n",
    "    tab = Table.read(pha2[0], hdu=1, format='fits')\n",
    "    # Use only 1 orders\n",
    "    ind = np.abs(tab['TG_M']) == 1\n",
    "    for row in tab[ind]:\n",
    "        dataname = obsid + '_' + tgpart[row['TG_PART']] + '_' + str(row['TG_M'])\n",
    "        ui.copy_data(row['SPEC_NUM'], dataname)\n",
    "        m = row['TG_M']\n",
    "        part = tgpart[row['TG_PART']]\n",
    "        if ui.get_data().header['INSTRUME'] == 'ACIS':\n",
    "            ui.load_arf(dataname, f'{dirname}{part}_{m}.arf.gz')\n",
    "            ui.load_rmf(dataname, f'{dirname}{part}_{m}.rmf.gz') \n",
    "        else:  # HRC has no order-sorting\n",
    "            sign = '' if m > 0 else '-'\n",
    "            for num in [1,2,3]:\n",
    "                ui.load_arf(dataname, f'{dirname}{part}_{sign}{num}.arf.gz', num)\n",
    "                ui.load_rmf(dataname, f'{dirname}{part}_{sign}{num}.rmf.gz', num) \n",
    "        stack._add_dataset(dataname)\n",
    "    # We copied all dataids to be used to new names, so delete the automatic read-in numbers\n",
    "    for row in range(len(tab)):\n",
    "        ui.delete_data(row + 1)\n",
    "    return stack"
   ]
  },
  {
   "cell_type": "code",
   "execution_count": null,
   "metadata": {},
   "outputs": [],
   "source": [
    "# Load in order of obervations, such that dslist is sorted by time\n",
    "# First Chandra\n",
    "dslist['5'] = loadpha2('5')\n",
    "\n",
    "# Then XMM\n",
    "path = 'data/XMM/0112880201/pps/'\n",
    "ui.load_data('XMM_R1', path + 'P0112880201R1S004SRSPEC1003.FTZ')\n",
    "ui.load_data('XMM_R2', path + 'P0112880201R2S005SRSPEC1003.FTZ')\n",
    "ui.load_rmf('XMM_R1', path + 'P0112880201R1S004RSPMAT1003.FTZ')\n",
    "ui.load_rmf('XMM_R2', path + 'P0112880201R2S005RSPMAT1003.FTZ')\n",
    "stack = ds.DataStack()\n",
    "stack._add_dataset('XMM_R1')\n",
    "stack._add_dataset('XMM_R2')\n",
    "dslist['XMM'] = stack\n",
    "\n",
    "# and then all the other Chandra\n",
    "for o in obsids[2:]:\n",
    "    dslist[o] = loadpha2(o)"
   ]
  },
  {
   "cell_type": "code",
   "execution_count": null,
   "metadata": {},
   "outputs": [],
   "source": [
    "# Some default settings\n",
    "ui.set_analysis('wave')\n",
    "ui.set_stat('cash')"
   ]
  },
  {
   "cell_type": "code",
   "execution_count": null,
   "metadata": {},
   "outputs": [],
   "source": [
    "def indep_lines_model(lines, prefix=''):\n",
    "    our_model = ui.const1d(name=f'{prefix}_bkg')\n",
    "    our_model.c0.min = 0  # Fit goes heywire if we ever get negative values in model with cstat or cash\n",
    "    for i, l in enumerate(lines):\n",
    "        line = ui.delta1d(name=f'{prefix}_{i}')\n",
    "        line.pos = l\n",
    "        line.pos.frozen = True\n",
    "        line.ampl = 1e-4\n",
    "        line.ampl.min = 0\n",
    "        our_model = our_model + line\n",
    "    return our_model\n"
   ]
  },
  {
   "cell_type": "code",
   "execution_count": null,
   "metadata": {},
   "outputs": [],
   "source": [
    "# the colors part is only needed for plot_fit etc. where more than one line is plotted\n",
    "# per dataset\n",
    "colors = plt.rcParams['axes.prop_cycle'].by_key()['color']\n",
    "\n",
    "def stack_plot(stack, func=ui.plot_data):\n",
    "    for i, dataset in enumerate(stack.filter_datasets()):\n",
    "        func(dataset['id'], overplot= i!= 0, color=colors[i])\n",
    "        \n",
    "    ax = plt.gca()\n",
    "    ax.legend([dataset['id'].split('_', maxsplit=1)[1] for dataset in stack.filter_datasets()])\n",
    "    return ax"
   ]
  },
  {
   "cell_type": "code",
   "execution_count": null,
   "metadata": {},
   "outputs": [],
   "source": [
    "# I have a feeling this could be made more generically\n",
    "# but for now just have them as separate functions\n",
    "\n",
    "def fit(wvl, xmm=['XMM_R2']):\n",
    "    for obsid, ds in dslist.items():\n",
    "        ds.group_counts(1)\n",
    "        ds.ignore(None, wvl[0])\n",
    "        ds.ignore(wvl[1], None)\n",
    "        ds.notice(*wvl)\n",
    "        ui.set_stat(\"chi2gehrels\")\n",
    "        ui.set_method(\"levmar\")\n",
    "        if obsid == 'XMM':\n",
    "            ui.fit(*xmm)\n",
    "            ui.set_stat(\"cash\")\n",
    "            ui.fit(*xmm)\n",
    "        else:\n",
    "            ds.fit() \n",
    "            ui.set_stat(\"cash\")\n",
    "            ds.fit()\n",
    "            \n",
    "def conf(wvl, xmm=['XMM_R2']):\n",
    "    conf_res = {}\n",
    "    for obsid, ds in dslist.items():\n",
    "        ds.group_counts(1)        \n",
    "        ds.ignore(None, wvl[0])\n",
    "        ds.ignore(wvl[1], None)\n",
    "        ds.notice(*wvl)\n",
    "        if obsid == 'XMM':\n",
    "            ui.conf(*xmm)\n",
    "        else:\n",
    "            ds.conf()\n",
    "        conf_res[obsid] = ui.get_conf_results()\n",
    "    return conf_res\n",
    "\n",
    "def plot(wvl, xmm=['XMM_R2'], group_counts=5):\n",
    "    # Ignore a lot of \"plotted errors on valid in this statistic errors\"\n",
    "    with warnings.catch_warnings():\n",
    "        warnings.simplefilter(\"ignore\")\n",
    "        for obsid, ds in dslist.items():\n",
    "            plt.figure()\n",
    "            ds.group_counts(group_counts)\n",
    "            ui.ignore(None, wvl[0])\n",
    "            ui.ignore(wvl[1], None)\n",
    "            ui.notice(*wvl)\n",
    "            if obsid == 'XMM':\n",
    "                for i, x in enumerate(xmm):\n",
    "                    ui.plot_fit(x, color=colors[i], overplot= i != 0)\n",
    "                ax = plt.gca()\n",
    "                ax.legend(xmm)\n",
    "            else:\n",
    "                ax = stack_plot(ds, func=ui.plot_fit)\n",
    "            ax.set_title(obsid)\n",
    "            ax.set_xlim(*wvl)"
   ]
  },
  {
   "cell_type": "markdown",
   "metadata": {},
   "source": [
    "## Ne IX\n",
    "### He-like triplet"
   ]
  },
  {
   "cell_type": "code",
   "execution_count": null,
   "metadata": {},
   "outputs": [],
   "source": [
    "for obsid, ds in dslist.items():\n",
    "    ds.set_source(indep_lines_model([13.447, 13.553, 13.699], prefix=obsid))"
   ]
  },
  {
   "cell_type": "code",
   "execution_count": null,
   "metadata": {},
   "outputs": [],
   "source": [
    "fit([13.40, 13.75], ['XMM_R2'])"
   ]
  },
  {
   "cell_type": "code",
   "execution_count": null,
   "metadata": {},
   "outputs": [],
   "source": [
    "plot([13.40, 13.75], ['XMM_R2'])"
   ]
  },
  {
   "cell_type": "code",
   "execution_count": null,
   "metadata": {},
   "outputs": [],
   "source": [
    "conf_res = conf([13.40, 13.75], ['XMM_R2'])"
   ]
  },
  {
   "cell_type": "code",
   "execution_count": null,
   "metadata": {},
   "outputs": [],
   "source": [
    "farr = np.stack([np.array([c.parvals, c.parmins, c.parmaxes], \n",
    "                          dtype=np.floating) for c in conf_res.values()])"
   ]
  },
  {
   "cell_type": "markdown",
   "metadata": {},
   "source": [
    "### He $\\beta$"
   ]
  },
  {
   "cell_type": "code",
   "execution_count": null,
   "metadata": {},
   "outputs": [],
   "source": [
    "for obsid, ds in dslist.items():\n",
    "    ds.set_source(indep_lines_model([11.5467], prefix=obsid))"
   ]
  },
  {
   "cell_type": "code",
   "execution_count": null,
   "metadata": {},
   "outputs": [],
   "source": [
    "fit([11.45, 11.65], ['XMM_R2'])"
   ]
  },
  {
   "cell_type": "code",
   "execution_count": null,
   "metadata": {
    "scrolled": true
   },
   "outputs": [],
   "source": [
    "plot([11.45, 11.65], ['XMM_R2'], group_counts=2)"
   ]
  },
  {
   "cell_type": "code",
   "execution_count": null,
   "metadata": {},
   "outputs": [],
   "source": [
    "conf_res_hea = conf([11.4, 11.7], ['XMM_R2'])"
   ]
  },
  {
   "cell_type": "code",
   "execution_count": null,
   "metadata": {},
   "outputs": [],
   "source": [
    "farr2 = np.stack([np.array([c.parvals, c.parmins, c.parmaxes], \n",
    "                          dtype=np.floating) for c in conf_res_hea.values()])\n",
    "\n",
    "farr2.shape"
   ]
  },
  {
   "cell_type": "code",
   "execution_count": null,
   "metadata": {},
   "outputs": [],
   "source": [
    "alpha2beta = farr[:, 0, 1] / farr2[:, 0, 1]\n",
    "sig_alpha2beta = np.sqrt((farr[:, 2, 1] / farr2[:, 0, 1])**2 + (farr[:, 0, 1] * farr2[:, 2, 1] / farr2[:, 0, 1]**2)**2)"
   ]
  },
  {
   "cell_type": "code",
   "execution_count": null,
   "metadata": {},
   "outputs": [],
   "source": [
    "plt.errorbar(obsids, alpha2beta, yerr=sig_alpha2beta, fmt='o')"
   ]
  },
  {
   "cell_type": "code",
   "execution_count": null,
   "metadata": {},
   "outputs": [],
   "source": [
    "f2i = farr[:, 0, 3] / farr[:, 0, 2]\n",
    "sig_f2i = np.sqrt((farr[:, 2, 3] / farr[:, 0, 2])**2 + (farr[:, 0, 3] * farr[:, 2, 2] / farr[:, 0, 2]**2)**2)"
   ]
  },
  {
   "cell_type": "code",
   "execution_count": null,
   "metadata": {},
   "outputs": [],
   "source": [
    "fi2r = (farr[:, 0, 3] + farr[:, 0, 2]) / farr[:, 0, 1]\n",
    "sig_fi2r = np.sqrt((farr[:, 2, 3] / farr[:, 0, 1])**2 + \n",
    "                   (farr[:, 2, 2] / farr[:, 0, 1])**2 + \n",
    "                   ((farr[:, 0, 3] + farr[:, 0, 2]) * farr[:, 2, 1] / farr[:, 0, 1]**2)**2)"
   ]
  },
  {
   "cell_type": "code",
   "execution_count": null,
   "metadata": {},
   "outputs": [],
   "source": [
    "plt.errorbar(obsids, f2i, yerr=sig_f2i, fmt='o')"
   ]
  },
  {
   "cell_type": "code",
   "execution_count": null,
   "metadata": {},
   "outputs": [],
   "source": [
    "plt.errorbar(obsids, fi2r, yerr=sig_fi2r, fmt='o')"
   ]
  },
  {
   "cell_type": "code",
   "execution_count": null,
   "metadata": {},
   "outputs": [],
   "source": [
    "phabs = ui.xsphabs(\"phabs\")\n",
    "phabs.nH = 1\n",
    "lam = np.arange(25., 1., -.1)\n",
    "en = 12.4/lam\n",
    "phabs.nH = 1\n",
    "plt.plot(lam, phabs(en), label='$1 \\\\times 10^{22}$')\n",
    "phabs.nH = .3\n",
    "plt.plot(lam, phabs(en), label='$3\\\\times 10^{21}$')\n",
    "phabs.nH = .1\n",
    "plt.plot(lam, phabs(en), label='$1 \\\\times 10^{21}$')\n",
    "\n",
    "plt.legend()"
   ]
  },
  {
   "cell_type": "code",
   "execution_count": null,
   "metadata": {},
   "outputs": [],
   "source": [
    "logtemp = np.arange(6.1, 7.01, .1)\n",
    "temp = 10**logtemp\n",
    "ne9 = ch.ion('ne_9', temperature=temp, eDensity=1.e+9, em=1.e+27)\n",
    "ne9.intensity()"
   ]
  },
  {
   "cell_type": "code",
   "execution_count": null,
   "metadata": {},
   "outputs": [],
   "source": [
    "def lineemiss(ion, lvl1, lvl2):\n",
    "    ind = (ion.Emiss[lvl1[0]] == lvl1[1]) & (ion.Emiss[lvl2[0]] == lvl2[1])\n",
    "    # Do I want an assert statemnt here ot see that I selected the right lines?\n",
    "    \n",
    "    #assert ind.sum() == 1\n",
    "    return ion.Emiss['emiss'][ind].flatten()"
   ]
  },
  {
   "cell_type": "code",
   "execution_count": null,
   "metadata": {},
   "outputs": [],
   "source": [
    "e_heb = lineemiss(ne9, ('lvl1', 1), ('pretty2', '1s.3p 1P1.0'))\n",
    "e_hea = lineemiss(ne9, ('lvl1', 1), ('pretty2', '1s.2p 1P1.0'))\n",
    "e_i1 = lineemiss(ne9, ('lvl1', 1), ('pretty2', '1s.2p 3P2.0'))\n",
    "e_i2 = lineemiss(ne9, ('lvl1', 1), ('pretty2', '1s.2p 2P1.0'))\n",
    "e_f = lineemiss(ne9, ('lvl1', 1), ('pretty2', '1s.2s 3S1.0'))"
   ]
  },
  {
   "cell_type": "code",
   "execution_count": null,
   "metadata": {},
   "outputs": [],
   "source": [
    "plt.plot(logtemp, e_hea / e_heb)\n",
    "plt.xlabel('log T')\n",
    "plt.ylabel('ratio Ly$\\\\alpha$/Ly$\\\\beta$')"
   ]
  },
  {
   "cell_type": "code",
   "execution_count": null,
   "metadata": {},
   "outputs": [],
   "source": [
    "plt.plot(logtemp, (e_i1 + e_i2 + e_f) / e_hea)\n",
    "plt.xlabel('log T')\n",
    "plt.ylabel('ratio (f+i)/r')"
   ]
  },
  {
   "cell_type": "code",
   "execution_count": null,
   "metadata": {},
   "outputs": [],
   "source": [
    "xp = (e_i1 + e_i2 + e_f) / e_hea\n",
    "sortind = np.argsort(xp)\n",
    "xp = xp[sortind]\n",
    "fp = logtemp[sortind]\n",
    "t_from_g = np.interp(fi2r, xp, fp)\n",
    "t_from_g_up = np.interp(fi2r + sig_fi2r, xp, fp) - t_from_g\n",
    "t_from_g_do = np.interp(fi2r - sig_fi2r, xp, fp) - t_from_g"
   ]
  },
  {
   "cell_type": "code",
   "execution_count": null,
   "metadata": {},
   "outputs": [],
   "source": [
    "phabs = ui.xsphabs(\"phabs\")\n",
    "phabs.nH = .1"
   ]
  },
  {
   "cell_type": "code",
   "execution_count": null,
   "metadata": {},
   "outputs": [],
   "source": [
    "# Input is \"edge of bins\", return values are for bin center.\n",
    "# So need to make a few narrow bins around the range I care.\n",
    "absval = phabs(([13.46, 13.45, 13.44, 11.56, 11.55, 11.54, 5.]\n",
    "                * u.Angstrom).to(u.keV, equivalencies=u.spectral()).value)\n",
    "absval"
   ]
  },
  {
   "cell_type": "code",
   "execution_count": null,
   "metadata": {},
   "outputs": [],
   "source": [
    "abscoeffalpha = - 1e-21 * np.log(absval[2])\n",
    "abscoeffbeta = - 1e-21 * np.log(absval[4])\n",
    "abscoeffalpha, abscoeffbeta"
   ]
  },
  {
   "cell_type": "code",
   "execution_count": null,
   "metadata": {},
   "outputs": [],
   "source": [
    "Gratio, Habobs = np.mgrid[.3:1.4:.01, 3:14:.01]"
   ]
  },
  {
   "cell_type": "code",
   "execution_count": null,
   "metadata": {},
   "outputs": [],
   "source": [
    "logT_from_G = np.interp(Gratio, xp, fp)\n",
    "Hab_from_logT = np.interp(logT_from_G, logtemp, e_hea / e_heb)\n",
    "\n",
    "N_H = np.log(Habobs/Hab_from_logT) / (abscoeffbeta - abscoeffalpha) / 1e21"
   ]
  },
  {
   "cell_type": "code",
   "execution_count": null,
   "metadata": {},
   "outputs": [],
   "source": [
    "# Define colors so that they match figure 3 in Brickhouse et al. (2012)\n",
    "# Other colors are taken from default matplotlib color cycle\n",
    "obscolors = {'5': '#ff7f0e', \n",
    "             'XMM': '#9467bd',\n",
    "             '6443': '#8c564b', \n",
    "             '7435': '#d62728',\n",
    "             '7436': '#1f77b4', \n",
    "             '7437': '#2ca02c',\n",
    "             '7438': '#e377c2',\n",
    "             '13250': '#7f7f7f'}\n",
    "\n",
    "def grat2logt(g):\n",
    "    return np.interp(g, xp, fp)\n",
    "\n",
    "def logt2grat(logt):\n",
    "    return np.interp(logt, fp[::-1], xp[::-1])\n",
    "\n",
    "fig, ax = plt.subplots(figsize=(4,3))\n",
    "cs = ax.contourf(Gratio, Habobs, np.ma.masked_less_equal(N_H, 0), cmap='binary')\n",
    "cslines = ax.contour(Gratio, Habobs, N_H, levels=[0], linestyles=['dotted'], colors=['k'], linewidths=[4])\n",
    "#ax.clabel(cs, cs.levels, inline=True, fontsize=10)\n",
    "cb = fig.colorbar(cs, ax=ax)\n",
    "for i, o in enumerate(obsids):\n",
    "    eb = ax.errorbar(fi2r[i], alpha2beta[i] * 11.55 / 13.45, xerr=sig_fi2r[i], yerr=sig_alpha2beta[i],\n",
    "                     fmt='o', label=o, color=obscolors[o])\n",
    "\n",
    "secax = ax.secondary_xaxis('top', functions=(grat2logt, logt2grat))\n",
    "secax.set_xlabel('Temperature [log T in K]')\n",
    "    \n",
    "ax.set_xlim(.4, 1.22)\n",
    "ax.set_ylim(3, 13)\n",
    "cb.set_label('$N_H$ [$10^{21}$ cm$^{-2}$]')\n",
    "ax.set_xlabel('Observed line ratio $(f+i)/r$')\n",
    "ax.set_ylabel('Observed line ratio He$\\\\alpha$/He$\\\\beta$')\n",
    "ax.legend(loc='upper left', bbox_to_anchor=(1.3, 1))\n",
    "\n",
    "fig.savefig('../plots/Ne-var.png', bbox_inches='tight', dpi=300)"
   ]
  },
  {
   "cell_type": "code",
   "execution_count": null,
   "metadata": {},
   "outputs": [],
   "source": [
    "fig, ax = plt.subplots(figsize=(4,3))\n",
    "\n",
    "for i, o in enumerate(obsids):\n",
    "    eb = ax.errorbar(fi2r[i], f2i[i], xerr=sig_fi2r[i], yerr=sig_f2i[i],\n",
    "                     fmt='o', label=o, color=obscolors[o])\n",
    "\n",
    "secax = ax.secondary_xaxis('top', functions=(grat2logt, logt2grat))\n",
    "secax.set_xlabel('Temperature [log T in K]')\n",
    "    \n",
    "ax.set_xlim(.4, 1.22)\n",
    "#ax.set_ylim(3, 13)\n",
    "ax.set_xlabel('Observed line ratio $(f+i)/r$')\n",
    "ax.set_ylabel('Observed line ratio $f/i$')\n",
    "ax.legend(loc='upper left', bbox_to_anchor=(1.3, 1))\n",
    "\n",
    "fig.savefig('../plots/Ne-var2.png', bbox_inches='tight', dpi=300)"
   ]
  },
  {
   "cell_type": "markdown",
   "metadata": {},
   "source": [
    "## O VII"
   ]
  },
  {
   "cell_type": "code",
   "execution_count": null,
   "metadata": {},
   "outputs": [],
   "source": [
    "for obsid, ds in dslist.items():\n",
    "    ds.set_source(indep_lines_model([21.602, 21.804, 22.101], prefix=obsid))"
   ]
  },
  {
   "cell_type": "code",
   "execution_count": null,
   "metadata": {},
   "outputs": [],
   "source": [
    "fit([21.4, 22.3], ['XMM_R1'])\n",
    "conf_res = conf([21.4, 22.3], ['XMM_R1'])"
   ]
  },
  {
   "cell_type": "code",
   "execution_count": null,
   "metadata": {},
   "outputs": [],
   "source": [
    "plot([21.4, 22.3], ['XMM_R1'])"
   ]
  },
  {
   "cell_type": "code",
   "execution_count": null,
   "metadata": {},
   "outputs": [],
   "source": [
    "farr = np.stack([np.array([c.parvals, c.parmins, c.parmaxes], \n",
    "                          dtype=np.floating) for c in conf_res.values()])"
   ]
  },
  {
   "cell_type": "markdown",
   "metadata": {},
   "source": [
    "### He b"
   ]
  },
  {
   "cell_type": "code",
   "execution_count": null,
   "metadata": {},
   "outputs": [],
   "source": [
    "for obsid, ds in dslist.items():\n",
    "    ds.set_source(indep_lines_model([18.627], prefix=obsid))"
   ]
  },
  {
   "cell_type": "code",
   "execution_count": null,
   "metadata": {},
   "outputs": [],
   "source": [
    "fit([18.45, 18.80], ['XMM_R1'])\n",
    "conf_res_heb = conf([18.45, 18.80], ['XMM_R1'])"
   ]
  },
  {
   "cell_type": "code",
   "execution_count": null,
   "metadata": {},
   "outputs": [],
   "source": [
    "plot([18.45, 18.80], ['XMM_R1'])"
   ]
  },
  {
   "cell_type": "code",
   "execution_count": null,
   "metadata": {},
   "outputs": [],
   "source": [
    "farr2 = np.stack([np.array([c.parvals, c.parmins, c.parmaxes], \n",
    "                          dtype=np.floating) for c in conf_res_heb.values()])\n",
    "\n",
    "farr2.shape"
   ]
  },
  {
   "cell_type": "code",
   "execution_count": null,
   "metadata": {},
   "outputs": [],
   "source": [
    "alpha2beta = farr[:, 0, 1] / farr2[:, 0, 1]\n",
    "sig_alpha2beta = np.sqrt((farr[:, 2, 1] / farr2[:, 0, 1])**2 + (farr[:, 0, 1] * farr2[:, 2, 1] / farr2[:, 0, 1]**2)**2)"
   ]
  },
  {
   "cell_type": "code",
   "execution_count": null,
   "metadata": {},
   "outputs": [],
   "source": [
    "plt.errorbar(obsids, alpha2beta, yerr=sig_alpha2beta, fmt='o')"
   ]
  },
  {
   "cell_type": "code",
   "execution_count": null,
   "metadata": {},
   "outputs": [],
   "source": [
    "f2i = farr[:, 0, 3] / farr[:, 0, 2]\n",
    "sig_f2i = np.sqrt((farr[:, 2, 3] / farr[:, 0, 2])**2 + (farr[:, 0, 3] * farr[:, 2, 2] / farr[:, 0, 2]**2)**2)"
   ]
  },
  {
   "cell_type": "code",
   "execution_count": null,
   "metadata": {},
   "outputs": [],
   "source": [
    "fi2r = (farr[:, 0, 3] + farr[:, 0, 2]) / farr[:, 0, 1]\n",
    "sig_fi2r = np.sqrt((farr[:, 2, 3] / farr[:, 0, 1])**2 + \n",
    "                   (farr[:, 2, 2] / farr[:, 0, 1])**2 + \n",
    "                   ((farr[:, 0, 3] + farr[:, 0, 2]) * farr[:, 2, 1] / farr[:, 0, 1]**2)**2)"
   ]
  },
  {
   "cell_type": "code",
   "execution_count": null,
   "metadata": {},
   "outputs": [],
   "source": [
    "plt.errorbar(obsids, f2i, yerr=sig_f2i, fmt='o')"
   ]
  },
  {
   "cell_type": "code",
   "execution_count": null,
   "metadata": {},
   "outputs": [],
   "source": [
    "plt.errorbar(obsids, fi2r, yerr=sig_fi2r, fmt='o')"
   ]
  },
  {
   "cell_type": "code",
   "execution_count": null,
   "metadata": {},
   "outputs": [],
   "source": [
    "logtemp = np.arange(5.5, 7.01, .1)\n",
    "temp = 10**logtemp\n",
    "o7 = ch.ion('o_7', temperature=temp, eDensity=1.e+9, em=1.e+27)\n",
    "o7.intensity()"
   ]
  },
  {
   "cell_type": "code",
   "execution_count": null,
   "metadata": {},
   "outputs": [],
   "source": [
    "e_heb = lineemiss(o7, ('lvl1', 1), ('pretty2', '1s.3p 1P1.0'))\n",
    "e_hea = lineemiss(o7, ('lvl1', 1), ('pretty2', '1s.2p 1P1.0'))\n",
    "e_i1 = lineemiss(o7, ('lvl1', 1), ('pretty2', '1s.2p 3P2.0'))\n",
    "#e_i2 = lineemiss(o7, ('lvl1', 1), ('pretty2', '1s.2p 2P1.0')) not in CHIATNI?!?\n",
    "e_f = lineemiss(o7, ('lvl1', 1), ('pretty2', '1s.2s 3S1.0'))"
   ]
  },
  {
   "cell_type": "code",
   "execution_count": null,
   "metadata": {},
   "outputs": [],
   "source": [
    "plt.plot(logtemp, e_hea / e_heb)\n",
    "plt.xlabel('log T')\n",
    "plt.ylabel('ratio Ly$\\\\alpha$/Ly$\\\\beta$')"
   ]
  },
  {
   "cell_type": "code",
   "execution_count": null,
   "metadata": {},
   "outputs": [],
   "source": [
    "plt.plot(logtemp, (e_i1 + e_f) / e_hea)\n",
    "plt.xlabel('log T')\n",
    "plt.ylabel('ratio (f+i)/r')"
   ]
  },
  {
   "cell_type": "code",
   "execution_count": null,
   "metadata": {},
   "outputs": [],
   "source": [
    "xp = (e_i1 + e_f) / e_hea\n",
    "sortind = np.argsort(xp)\n",
    "xp = xp[sortind]\n",
    "fp = logtemp[sortind]\n",
    "t_from_g = np.interp(fi2r, xp, fp)\n",
    "t_from_g_up = np.interp(fi2r + sig_fi2r, xp, fp) - t_from_g\n",
    "t_from_g_do = np.interp(fi2r - sig_fi2r, xp, fp) - t_from_g"
   ]
  },
  {
   "cell_type": "code",
   "execution_count": null,
   "metadata": {},
   "outputs": [],
   "source": [
    "phabs = ui.xsphabs(\"phabs\")\n",
    "phabs.nH = .1"
   ]
  },
  {
   "cell_type": "code",
   "execution_count": null,
   "metadata": {},
   "outputs": [],
   "source": [
    "# Input is \"edge of bins\", return values are for bin center.\n",
    "# So need to make a few narrow bins around the range I care.\n",
    "absval = phabs(([21.7, 21.6, 21.5, 18.7, 18.6, 18.5, 5.]\n",
    "                * u.Angstrom).to(u.keV, equivalencies=u.spectral()).value)\n",
    "absval"
   ]
  },
  {
   "cell_type": "code",
   "execution_count": null,
   "metadata": {},
   "outputs": [],
   "source": [
    "abscoeffalpha = - 1e-21 * np.log(absval[2])\n",
    "abscoeffbeta = - 1e-21 * np.log(absval[4])\n",
    "abscoeffalpha, abscoeffbeta"
   ]
  },
  {
   "cell_type": "code",
   "execution_count": null,
   "metadata": {},
   "outputs": [],
   "source": [
    "Gratio, Habobs = np.mgrid[.3:2:.01, 1:20:.01]"
   ]
  },
  {
   "cell_type": "code",
   "execution_count": null,
   "metadata": {},
   "outputs": [],
   "source": [
    "logT_from_G = np.interp(Gratio, xp, fp)\n",
    "Hab_from_logT = np.interp(logT_from_G, logtemp, e_hea / e_heb)\n",
    "\n",
    "N_H = np.log(Habobs/Hab_from_logT) / (abscoeffbeta - abscoeffalpha) / 1e21"
   ]
  },
  {
   "cell_type": "code",
   "execution_count": null,
   "metadata": {},
   "outputs": [],
   "source": [
    "# Define colors so that they match figure 3 in Brickhouse et al. (2012)\n",
    "# Other colors are taken from default matplotlib color cycle\n",
    "obscolors = {'5': '#ff7f0e', \n",
    "             'XMM': '#9467bd',\n",
    "             '6443': '#8c564b', \n",
    "             '7435': '#d62728',\n",
    "             '7436': '#1f77b4', \n",
    "             '7437': '#2ca02c',\n",
    "             '7438': '#e377c2',\n",
    "             '13250': '#7f7f7f'}\n",
    "\n",
    "def grat2logt(g):\n",
    "    return np.interp(g, xp, fp)\n",
    "\n",
    "def logt2grat(logt):\n",
    "    return np.interp(logt, fp[::-1], xp[::-1])\n",
    "\n",
    "fig, ax = plt.subplots(figsize=(4,3))\n",
    "cs = ax.contourf(Gratio, Habobs, np.ma.masked_less_equal(N_H, 0), cmap='binary')\n",
    "cslines = ax.contour(Gratio, Habobs, N_H, levels=[0], linestyles=['dotted'], \n",
    "                     colors=['k'], linewidths=[4])\n",
    "#ax.clabel(cs, cs.levels, inline=True, fontsize=10)\n",
    "cb = fig.colorbar(cs, ax=ax)\n",
    "for i, o in enumerate(obsids):\n",
    "    eb = ax.errorbar(fi2r[i], alpha2beta[i] * 18.6 / 21.6, xerr=sig_fi2r[i], yerr=sig_alpha2beta[i],\n",
    "                     fmt='o', label=o, color=obscolors[o])\n",
    "\n",
    "secax = ax.secondary_xaxis('top', functions=(grat2logt, logt2grat))\n",
    "secax.set_xlabel('Temperature [log T in K]')\n",
    "    \n",
    "ax.set_xlim(.4, 1.5)\n",
    "ax.set_ylim(2, 11)\n",
    "cb.set_label('$N_H$ [$10^{21}$ cm$^{-2}$]')\n",
    "ax.set_xlabel('Observed line ratio $(f+i)/r$')\n",
    "ax.set_ylabel('Observed line ratio He$\\\\alpha$/He$\\\\beta$')\n",
    "ax.legend(loc='upper left', bbox_to_anchor=(1.3, 1))\n",
    "\n",
    "fig.savefig('../plots/O-var.png', bbox_inches='tight', dpi=300)"
   ]
  },
  {
   "cell_type": "code",
   "execution_count": null,
   "metadata": {},
   "outputs": [],
   "source": []
  },
  {
   "cell_type": "code",
   "execution_count": null,
   "metadata": {},
   "outputs": [],
   "source": []
  },
  {
   "cell_type": "code",
   "execution_count": null,
   "metadata": {},
   "outputs": [],
   "source": []
  },
  {
   "cell_type": "markdown",
   "metadata": {},
   "source": [
    "# Notes\n",
    "- XMM coords for R1 must be wrong - line is offset too far - > reduce RGS data by hand\n",
    "- Chandra HEGT/HRC-I data is missing\n",
    "- O VII and code is a dublication on Ne IX: Can I refactor more?\n",
    "- Should I decouple fitting an ananylsis, similar to Dave etc al.? Put fits in scripts, run in eparate dirs to allow hand-tune individual fits without re-running everything? That's what I wanted to do with filili. Revisit?\n",
    "- Ne IX and O VII plot look reversed to each other (red, green, pink crosses are mirrored). IS that physics or am I just lookign at a point cloud?\n",
    "- Density plot should have right axis, or better background spiterweb with temp, dens (because ratio is also dependent on density somewhat). \n",
    "- Improve error estimates using MCMC instead of error propagation. Should also allow priors like \"ignore negative N_H region\". Some code for that is below, that's not integrated yet. (It's for a different notebook, that I accidentially workedo n separately and that I'm not removing to avoid confusing myself in the future).\n",
    "- This probes \"peak of GofT\", so different O VII components are not weighted equally, but those at T near peak are strongest weightied. Check from of GofT for all lines to make sure they are similar. If they are, that's a matter for the discussion section, if they are not, it's a caveat (I don't really havea good idea what to do about it. Maybe the Hegamma lines are visible? THey would provide greater leverage in terms of A_V)."
   ]
  },
  {
   "cell_type": "code",
   "execution_count": null,
   "metadata": {},
   "outputs": [],
   "source": [
    "def fit_triplet_MCMC(obsid, model):\n",
    "    oids = get_dataids_obsid(obsid)\n",
    "    for o in oids:\n",
    "        set_source(o, model)\n",
    "        set_stat(\"cash\")\n",
    "    fit(*oids)\n",
    "    covar(*oids)\n",
    "    stats, accept, params = get_draws(id=oids[0], otherids=oids[1:], niter=1e4)\n",
    "    return params"
   ]
  },
  {
   "cell_type": "code",
   "execution_count": null,
   "metadata": {},
   "outputs": [],
   "source": []
  },
  {
   "cell_type": "code",
   "execution_count": null,
   "metadata": {},
   "outputs": [],
   "source": []
  },
  {
   "cell_type": "markdown",
   "metadata": {},
   "source": [
    "## Reprocess LETGS data in 30 ks chunks so see how many counts we can expect for proposal\n",
    "\n",
    "See https://cxc.cfa.harvard.edu/cal/Letg/LetgHrcEEFRAC/index.html for how to improve the S/N somewhat with non-standard settings. For the proposal I don't need that, fur a publication it might be worthwhile to explore the difference.\n",
    "\n",
    "*Note* I don't see changes between chunks, but the wavelength is slightly off (need to fix 0-order location by hand), so I just got the count number from the total 150 ks and devided by five for the proposal."
   ]
  },
  {
   "cell_type": "code",
   "execution_count": null,
   "metadata": {},
   "outputs": [],
   "source": [
    "# The cells below take a long time to run, so I want ot make sure the notebook stops here.\n",
    "raise Exception"
   ]
  },
  {
   "cell_type": "code",
   "execution_count": null,
   "metadata": {},
   "outputs": [],
   "source": [
    "import ciao_contrib.runtool as rt"
   ]
  },
  {
   "cell_type": "code",
   "execution_count": null,
   "metadata": {},
   "outputs": [],
   "source": [
    "# Everything could be done with CIAO tools, but I know astropy better, so I migh just as well use that\n",
    "from astropy.io import fits\n",
    "from astropy.table import Table"
   ]
  },
  {
   "cell_type": "code",
   "execution_count": null,
   "metadata": {},
   "outputs": [],
   "source": [
    "# From the header for ObsID 6443\n",
    "# I'm running this on an old computer, thus I don't want to open a large file just to get those two numbers\n",
    "# when I'm running the notebook again.\n",
    "TSTART = 272620141.4059900045\n",
    "TSTOP = 272774659.6507499814"
   ]
  },
  {
   "cell_type": "code",
   "execution_count": null,
   "metadata": {},
   "outputs": [],
   "source": [
    "for i in range(5):\n",
    "    rt.dmcopy.punlearn()\n",
    "    rt.dmcopy(infile='data/Chandra/6443/repro/hrcf06443_repro_evt2.fits[EVENTS][time={}:{}]'.format(TSTART + i * delta_t,\n",
    "                                                                                                    TSTART + (i+1) * delta_t),\n",
    "              outfile='data/Chandra/6443/repro/evt2_{}'.format(i), option=\"\")\n",
    "    rt.dmappend(infile='data/Chandra/6443/repro/hrcf06443_repro_evt2.fits[region][subspace -time]',\n",
    "                outfile='data/Chandra/6443/repro/evt2_{}'.format(i))\n"
   ]
  },
  {
   "cell_type": "code",
   "execution_count": null,
   "metadata": {},
   "outputs": [],
   "source": [
    "# Assuming DTCOR ppreviously calculated (i.e. for the entire exposure) is OK here, too.\n",
    "# See https://cxc.cfa.harvard.edu/ciao/threads/spectra_letghrcs/ for how to redo that calculation.\n",
    "# Not needed for proposal, because effect is in the percent range."
   ]
  },
  {
   "cell_type": "code",
   "execution_count": null,
   "metadata": {},
   "outputs": [],
   "source": [
    "for i in range(5):\n",
    "    rt.tgextract.punlearn()\n",
    "    rt.tgextract(infile='data/Chandra/6443/repro/evt2_{}'.format(i),\n",
    "                 outfile='data/Chandra/6443/repro/pha2_{}'.format(i),\n",
    "                 inregion_file='CALDB')"
   ]
  },
  {
   "cell_type": "code",
   "execution_count": null,
   "metadata": {},
   "outputs": [],
   "source": [
    "path = 'data/Chandra/tgcat/obs_6443_tgid_2459/'\n",
    "\n",
    "for i in range(5):\n",
    "    ui.load_data('data/Chandra/6443/repro/pha2_{}'.format(i))\n",
    "    for sign, sherpaid in zip(['-', ''], [1, 2]):\n",
    "        for num in [1,2,3]:\n",
    "            ui.load_arf(sherpaid, path+\"leg_{}{}.arf.gz\".format(sign, num), num)\n",
    "            ui.load_rmf(sherpaid, path+\"leg_{}{}.rmf.gz\".format(sign, num), num)\n",
    "        \n",
    "    ui.copy_data(1, 't6443_{}_leg-1'.format(i))\n",
    "    ui.copy_data(2, 't6443_{}_leg+1'.format(i))"
   ]
  },
  {
   "cell_type": "code",
   "execution_count": null,
   "metadata": {},
   "outputs": [],
   "source": [
    "ui.set_analysis('wave')\n",
    "ui.ignore(None, 13.40)\n",
    "ui.ignore(13.75, None)\n",
    "ui.notice(13.40, 13.75)\n",
    "\n",
    "ui.plot_data('6443_leg-1')\n",
    "for i in range(5):\n",
    "    ui.plot_data('t6443_{}_leg-1'.format(i), overplot=True)"
   ]
  },
  {
   "cell_type": "code",
   "execution_count": null,
   "metadata": {},
   "outputs": [],
   "source": [
    "ui.set_analysis('6443_leg-1', \"energy\", \"counts\", 0)"
   ]
  },
  {
   "cell_type": "code",
   "execution_count": null,
   "metadata": {},
   "outputs": [],
   "source": [
    "ui.plot_data('6443_leg-1')"
   ]
  },
  {
   "cell_type": "code",
   "execution_count": null,
   "metadata": {},
   "outputs": [],
   "source": [
    "pl = ui.get_data_plot('6443_leg-1')"
   ]
  },
  {
   "cell_type": "code",
   "execution_count": null,
   "metadata": {},
   "outputs": [],
   "source": [
    "pl.y.sum()"
   ]
  },
  {
   "cell_type": "code",
   "execution_count": null,
   "metadata": {},
   "outputs": [],
   "source": [
    "ui.set_analysis('wave')\n",
    "#ui.ignore(None, 21.5)\n",
    "#ui.ignore(22.3, None)\n",
    "#ui.notice(21.5, 22.3)\n",
    "ui.ignore(None, 13.40)\n",
    "ui.ignore(13.75, None)\n",
    "ui.notice(13.40, 13.75)\n",
    "ui.set_analysis('6443_leg+1', \"energy\", \"counts\", 0)\n",
    "pl = ui.get_data_plot('6443_leg+1')\n",
    "ui.plot_data('6443_leg+1')\n",
    "print(pl.y.sum())"
   ]
  },
  {
   "cell_type": "code",
   "execution_count": null,
   "metadata": {},
   "outputs": [],
   "source": []
  }
 ],
 "metadata": {
  "kernelspec": {
   "display_name": "Python 3",
   "language": "python",
   "name": "python3"
  },
  "language_info": {
   "codemirror_mode": {
    "name": "ipython",
    "version": 3
   },
   "file_extension": ".py",
   "mimetype": "text/x-python",
   "name": "python",
   "nbconvert_exporter": "python",
   "pygments_lexer": "ipython3",
   "version": "3.7.7"
  }
 },
 "nbformat": 4,
 "nbformat_minor": 2
}
